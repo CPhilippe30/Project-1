{
 "cells": [
  {
   "cell_type": "code",
   "execution_count": 55,
   "metadata": {},
   "outputs": [
    {
     "data": {
      "text/html": [
       "<div>\n",
       "<style scoped>\n",
       "    .dataframe tbody tr th:only-of-type {\n",
       "        vertical-align: middle;\n",
       "    }\n",
       "\n",
       "    .dataframe tbody tr th {\n",
       "        vertical-align: top;\n",
       "    }\n",
       "\n",
       "    .dataframe thead th {\n",
       "        text-align: right;\n",
       "    }\n",
       "</style>\n",
       "<table border=\"1\" class=\"dataframe\">\n",
       "  <thead>\n",
       "    <tr style=\"text-align: right;\">\n",
       "      <th></th>\n",
       "      <th>State</th>\n",
       "      <th>White</th>\n",
       "      <th>Black</th>\n",
       "      <th>Asian</th>\n",
       "      <th>Hispanic</th>\n",
       "    </tr>\n",
       "  </thead>\n",
       "  <tbody>\n",
       "    <tr>\n",
       "      <th>0</th>\n",
       "      <td>South Carolina</td>\n",
       "      <td>2695560</td>\n",
       "      <td>1185216</td>\n",
       "      <td>36014</td>\n",
       "      <td>95076</td>\n",
       "    </tr>\n",
       "    <tr>\n",
       "      <th>1</th>\n",
       "      <td>North Carolina</td>\n",
       "      <td>6552128</td>\n",
       "      <td>2214270</td>\n",
       "      <td>307366</td>\n",
       "      <td>1022995</td>\n",
       "    </tr>\n",
       "    <tr>\n",
       "      <th>2</th>\n",
       "      <td>Alabama</td>\n",
       "      <td>3162808</td>\n",
       "      <td>1155930</td>\n",
       "      <td>31346</td>\n",
       "      <td>75830</td>\n",
       "    </tr>\n",
       "    <tr>\n",
       "      <th>3</th>\n",
       "      <td>Tennesse</td>\n",
       "      <td>5006712</td>\n",
       "      <td>1132469</td>\n",
       "      <td>124108</td>\n",
       "      <td>389127</td>\n",
       "    </tr>\n",
       "    <tr>\n",
       "      <th>4</th>\n",
       "      <td>Kentucky</td>\n",
       "      <td>3640889</td>\n",
       "      <td>295994</td>\n",
       "      <td>29744</td>\n",
       "      <td>59939</td>\n",
       "    </tr>\n",
       "    <tr>\n",
       "      <th>5</th>\n",
       "      <td>Georgia</td>\n",
       "      <td>6061821</td>\n",
       "      <td>3195268</td>\n",
       "      <td>388946</td>\n",
       "      <td>950380</td>\n",
       "    </tr>\n",
       "    <tr>\n",
       "      <th>6</th>\n",
       "      <td>Virginia</td>\n",
       "      <td>5720209</td>\n",
       "      <td>1605447</td>\n",
       "      <td>520119</td>\n",
       "      <td>749458</td>\n",
       "    </tr>\n",
       "  </tbody>\n",
       "</table>\n",
       "</div>"
      ],
      "text/plain": [
       "            State    White    Black   Asian  Hispanic\n",
       "0  South Carolina  2695560  1185216   36014     95076\n",
       "1  North Carolina  6552128  2214270  307366   1022995\n",
       "2         Alabama  3162808  1155930   31346     75830\n",
       "3        Tennesse  5006712  1132469  124108    389127\n",
       "4        Kentucky  3640889   295994   29744     59939\n",
       "5         Georgia  6061821  3195268  388946    950380\n",
       "6        Virginia  5720209  1605447  520119    749458"
      ]
     },
     "execution_count": 55,
     "metadata": {},
     "output_type": "execute_result"
    }
   ],
   "source": [
    "# Dependencies and Setup\n",
    "import matplotlib.pyplot as plt\n",
    "import pandas as pd\n",
    "import scipy.stats as st\n",
    "import numpy as np\n",
    "\n",
    "# Read COVID-19 data file\n",
    "state_demographics = \"Resources/StateDem.csv\"\n",
    "state_demographics_results = pd.read_csv(state_demographics)\n",
    "\n",
    "state_demographics_results\n"
   ]
  },
  {
   "cell_type": "code",
   "execution_count": 58,
   "metadata": {
    "scrolled": true
   },
   "outputs": [
    {
     "data": {
      "image/png": "[encoded data removed]",
      "text/plain": [
       "<Figure size 432x288 with 1 Axes>"
      ]
     },
     "metadata": {
      "needs_background": "light"
     },
     "output_type": "display_data"
    }
   ],
   "source": [
    "state_demographics_results.plot(kind='bar')\n",
    "tick_locations = np.arange(len(state_demographics_results))\n",
    "plt.xticks(tick_locations,[\"South Carolina\", \"North Carolina\", \"Alabama\", \"Tennesse\", \"Kentucky\", \"Georgia\", \"Virginia\"])\n",
    "plt.title(\"Demographics by State\")\n",
    "plt.xlabel(\"State\")\n",
    "plt.ylabel(\"Population\")\n",
    "\n",
    "plt.show()"
   ]
  },
  {
   "cell_type": "code",
   "execution_count": null,
   "metadata": {},
   "outputs": [],
   "source": []
  }
 ],
 "metadata": {
  "kernelspec": {
   "display_name": "Python 3",
   "language": "python",
   "name": "python3"
  },
  "language_info": {
   "codemirror_mode": {
    "name": "ipython",
    "version": 3
   },
   "file_extension": ".py",
   "mimetype": "text/x-python",
   "name": "python",
   "nbconvert_exporter": "python",
   "pygments_lexer": "ipython3",
   "version": "3.6.10"
  }
 },
 "nbformat": 4,
 "nbformat_minor": 4
}
